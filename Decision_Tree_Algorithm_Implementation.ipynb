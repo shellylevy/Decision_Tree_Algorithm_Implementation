{
 "cells": [
  {
   "cell_type": "markdown",
   "metadata": {
    "nbgrader": {
     "grade": false,
     "grade_id": "cell-6bd0516e7cb654f5",
     "locked": true,
     "schema_version": 1,
     "solution": false
    }
   },
   "source": [
    "# Decision Trees\n",
    "\n",
    "In this assignment you will implement a Decision Tree algorithm as learned in class.\n",
    "\n",
    "## In this exercise you will perform the following:\n",
    "1. Practice OOP in python.\n",
    "2. Implement two impurity measures: Gini and Entropy.\n",
    "3. Construct a decision tree algorithm.\n",
    "4. Prune the tree to achieve better results.\n",
    "5. Visualize your results."
   ]
  },
  {
   "cell_type": "code",
   "execution_count": 1,
   "metadata": {
    "nbgrader": {
     "grade": false,
     "grade_id": "cell-ed9fe7b1026e33cb",
     "locked": true,
     "schema_version": 1,
     "solution": false
    }
   },
   "outputs": [],
   "source": [
    "import numpy as np\n",
    "import pandas as pd\n",
    "import matplotlib.pyplot as plt\n",
    "\n",
    "# make matplotlib figures appear inline in the notebook\n",
    "%matplotlib inline\n",
    "plt.rcParams['figure.figsize'] = (10.0, 8.0) # set default size of plots\n",
    "plt.rcParams['image.interpolation'] = 'nearest'\n",
    "plt.rcParams['image.cmap'] = 'gray'\n",
    "\n",
    "# Ignore warnings\n",
    "import warnings\n",
    "warnings.filterwarnings('ignore')"
   ]
  },
  {
   "cell_type": "markdown",
   "metadata": {
    "nbgrader": {
     "grade": false,
     "grade_id": "cell-c6ac605270c2b091",
     "locked": true,
     "schema_version": 1,
     "solution": false
    }
   },
   "source": [
    "## Warmup - OOP in python\n",
    "\n",
    "Our desicion tree will be implemented using a dedicated python class. Python classes are very similar to classes in Java.\n",
    "\n",
    "\n",
    "You can use the following [site](https://jeffknupp.com/blog/2014/06/18/improve-your-python-python-classes-and-object-oriented-programming/) to learn about classes in python."
   ]
  },
  {
   "cell_type": "code",
   "execution_count": 2,
   "metadata": {},
   "outputs": [],
   "source": [
    "class Node(object):\n",
    "    def __init__(self, data):\n",
    "        self.data = data\n",
    "        self.children = []\n",
    "\n",
    "    def add_child(self, node):\n",
    "        self.children.append(node)"
   ]
  },
  {
   "cell_type": "code",
   "execution_count": 3,
   "metadata": {},
   "outputs": [
    {
     "data": {
      "text/plain": [
       "[<__main__.Node at 0x7fe518856d60>, <__main__.Node at 0x7fe518856880>]"
      ]
     },
     "execution_count": 3,
     "metadata": {},
     "output_type": "execute_result"
    }
   ],
   "source": [
    "n = Node(5)\n",
    "p = Node(6)\n",
    "q = Node(7)\n",
    "n.add_child(p)\n",
    "n.add_child(q)\n",
    "n.children"
   ]
  },
  {
   "cell_type": "markdown",
   "metadata": {
    "nbgrader": {
     "grade": false,
     "grade_id": "cell-2f1ceb251c649b62",
     "locked": true,
     "schema_version": 1,
     "solution": false
    }
   },
   "source": [
    "## Data preprocessing\n",
    "\n",
    "For the following exercise, we will use a dataset containing mushroom data `agaricus-lepiota.csv`. \n",
    "\n",
    "This data set includes descriptions of hypothetical samples corresponding to 23 species of gilled mushrooms in the Agaricus and Lepiota Family. Each species is identified as definitely edible, definitely poisonous, or of unknown edibility and not recommended. This latter class was combined with the poisonous\n",
    "one (=there are only two classes **edible** and **poisonous**). \n",
    "    \n",
    "The dataset contains 8124 observations with 22 features:\n",
    "1. cap-shape: bell=b,conical=c,convex=x,flat=f,knobbed=k,sunken=s\n",
    "2. cap-surface: fibrous=f,grooves=g,scaly=y,smooth=s\n",
    "3. cap-color: brown=n,buff=b,cinnamon=c,gray=g,green=r,pink=p,purple=u,red=e,white=w,yellow=y\n",
    "4. bruises: bruises=t,no=f\n",
    "5. odor: almond=a,anise=l,creosote=c,fishy=y,foul=f, musty=m,none=n,pungent=p,spicy=s\n",
    "6. gill-attachment: attached=a,descending=d,free=f,notched=n\n",
    "7. gill-spacing: close=c,crowded=w,distant=d\n",
    "8. gill-size: broad=b,narrow=n\n",
    "9. gill-color: black=k,brown=n,buff=b,chocolate=h,gray=g,green=r,orange=o,pink=p,purple=u,red=e,white=w,yellow=y\n",
    "10. stalk-shape: enlarging=e,tapering=t\n",
    "11. stalk-root: bulbous=b,club=c,cup=u,equal=e,rhizomorphs=z,rooted=r\n",
    "12. stalk-surface-above-ring: fibrous=f,scaly=y,silky=k,smooth=s\n",
    "13. stalk-surface-below-ring: fibrous=f,scaly=y,silky=k,smooth=s\n",
    "14. stalk-color-above-ring: brown=n,buff=b,cinnamon=c,gray=g,orange=o,pink=p,red=e,white=w,yellow=y\n",
    "15. stalk-color-below-ring: brown=n,buff=b,cinnamon=c,gray=g,orange=o,pink=p,red=e,white=w,yellow=y\n",
    "16. veil-type: partial=p,universal=u\n",
    "17. veil-color: brown=n,orange=o,white=w,yellow=y\n",
    "18. ring-number: none=n,one=o,two=t\n",
    "19. ring-type: cobwebby=c,evanescent=e,flaring=f,large=l,none=n,pendant=p,sheathing=s,zone=z\n",
    "20. spore-print-color: black=k,brown=n,buff=b,chocolate=h,green=r,orange=o,purple=u,white=w,yellow=y\n",
    "21. population: abundant=a,clustered=c,numerous=n,scattered=s,several=v,solitary=y\n",
    "22. habitat: grasses=g,leaves=l,meadows=m,paths=p,urban=u,waste=w,woods=d\n",
    "\n",
    "First, we will read and explore the data using pandas and the `.read_csv` method. Pandas is an open source library providing high-performance, easy-to-use data structures and data analysis tools for the Python programming language."
   ]
  },
  {
   "cell_type": "code",
   "execution_count": 4,
   "metadata": {
    "nbgrader": {
     "grade": false,
     "grade_id": "cell-d79cb4542926ad3f",
     "locked": true,
     "schema_version": 1,
     "solution": false
    }
   },
   "outputs": [],
   "source": [
    "# load dataset\n",
    "data = pd.read_csv('agaricus-lepiota.csv')"
   ]
  },
  {
   "cell_type": "markdown",
   "metadata": {},
   "source": [
    "One of the advantages of the Decision Tree algorithm is that almost no preprocessing is required. However, finding missing values is always required."
   ]
  },
  {
   "cell_type": "code",
   "execution_count": 5,
   "metadata": {},
   "outputs": [
    {
     "name": "stdout",
     "output_type": "stream",
     "text": [
      "There isnt missing values in the data\n"
     ]
    }
   ],
   "source": [
    "count=sum(data.isna().sum())\n",
    "if count>0:\n",
    "    print(\"There is missing values in the data\")\n",
    "else:\n",
    "    print(\"There isnt missing values in the data\")"
   ]
  },
  {
   "cell_type": "markdown",
   "metadata": {},
   "source": [
    "We will split the dataset to `Training` and `Testing` datasets."
   ]
  },
  {
   "cell_type": "code",
   "execution_count": 6,
   "metadata": {},
   "outputs": [
    {
     "name": "stdout",
     "output_type": "stream",
     "text": [
      "Training dataset shape:  (6093, 22)\n",
      "Testing dataset shape:  (2031, 22)\n"
     ]
    }
   ],
   "source": [
    "from sklearn.model_selection import train_test_split\n",
    "# Making sure the last column will hold the labels\n",
    "X, y = data.drop('class', axis=1), data['class']\n",
    "X = np.column_stack([X,y])\n",
    "# split dataset using random_state to get the same split each time\n",
    "X_train, X_test = train_test_split(X, random_state=99)\n",
    "\n",
    "print(\"Training dataset shape: \", X_train.shape)\n",
    "print(\"Testing dataset shape: \", X_test.shape)"
   ]
  },
  {
   "cell_type": "markdown",
   "metadata": {
    "nbgrader": {
     "grade": false,
     "grade_id": "cell-fd7b0191f3f1e897",
     "locked": true,
     "schema_version": 1,
     "solution": false
    }
   },
   "source": [
    "## Impurity Measures\n",
    "\n",
    "Impurity is a measure of how often a randomly chosen element from the set would be incorrectly labeled if it was randomly labeled according to the distribution of labels in the subset. Implement the functions `calc_gini` and `calc_entropy`. You are encouraged to test your implementation (10 points)."
   ]
  },
  {
   "cell_type": "code",
   "execution_count": 7,
   "metadata": {},
   "outputs": [],
   "source": [
    "def calc_gini(data):\n",
    "    \"\"\"\n",
    "    Calculate gini impurity measure of a dataset.\n",
    " \n",
    "    Input:\n",
    "    - data: any dataset where the last column holds the labels.\n",
    " \n",
    "    Returns the gini impurity.    \n",
    "    \"\"\"\n",
    "    gini = 0.0\n",
    "    p_count = (data[:, -1] == 'p').sum()\n",
    "    e_count = (data[:, -1] == 'e').sum()\n",
    "    s=data.shape[0]\n",
    "    \n",
    "    gini=1-((e_count/s)**2+(p_count/s)**2)\n",
    "    return gini"
   ]
  },
  {
   "cell_type": "code",
   "execution_count": 8,
   "metadata": {},
   "outputs": [],
   "source": [
    "def calc_entropy(data):\n",
    "    \"\"\"\n",
    "    Calculate the entropy of a dataset.\n",
    "\n",
    "    Input:\n",
    "    - data: any dataset where the last column holds the labels.\n",
    "\n",
    "    Returns the entropy of the dataset.    \n",
    "    \"\"\"\n",
    "    entropy = 0.0\n",
    "    p_count = (data[:, -1] == 'p').sum()\n",
    "    e_count = (data[:, -1] == 'e').sum()\n",
    "    s=data.shape[0]\n",
    "    \n",
    "    if e_count==0 and p_count==0:\n",
    "        entropy=0\n",
    "        return entropy\n",
    "    \n",
    "    if e_count==0 or p_count==0:\n",
    "        if e_count==0:\n",
    "            entropy=-(p_count/s)*np.log2((p_count/s))\n",
    "        else:\n",
    "            entropy=-(e_count/s)*np.log2((e_count/s))\n",
    "    else:\n",
    "        entropy=-(e_count/s)*np.log2((e_count/s))-(p_count/s)*np.log2((p_count/s))\n",
    "\n",
    "    return entropy"
   ]
  },
  {
   "cell_type": "code",
   "execution_count": 9,
   "metadata": {
    "scrolled": true
   },
   "outputs": [
    {
     "data": {
      "text/plain": [
       "(0.4995636322379775, 0.9993703627906085)"
      ]
     },
     "execution_count": 9,
     "metadata": {},
     "output_type": "execute_result"
    }
   ],
   "source": [
    "calc_gini(X), calc_entropy(X)"
   ]
  },
  {
   "cell_type": "markdown",
   "metadata": {},
   "source": [
    "## Goodness of Split\n",
    "\n",
    "Given a feature the Goodnees of Split measures the reduction in the impurity if we split the data according to the feature.\n",
    "$$\n",
    "\\Delta\\varphi(S, A) = \\varphi(S) - \\sum_{v\\in Values(A)} \\frac{|S_v|}{|S|}\\varphi(S_v)\n",
    "$$\n",
    "\n",
    "NOTE: you can add more parameters to the function and you can also add more returning variables (The given parameters and the given returning variable should not be touch). (10 Points)"
   ]
  },
  {
   "cell_type": "code",
   "execution_count": 10,
   "metadata": {},
   "outputs": [],
   "source": [
    "def goodness_of_split(data, feature, impurity_func,gain_ratio=False):\n",
    "    \"\"\"\n",
    "    Calculate the goodness of split of a dataset given a feature and impurity function.\n",
    "\n",
    "    Input:\n",
    "    - data: any dataset where the last column holds the labels.\n",
    "    - feature: the feature index.\n",
    "    - impurity func: a function that calculates the impurity.\n",
    "\n",
    "    Returns the goodness of split.\n",
    "    \"\"\"\n",
    "\n",
    "    goodness=0\n",
    "    S=data.shape[0]\n",
    "    data_new=data[:,[feature,-1]]\n",
    "    sum_Qv=0\n",
    "    Qs=impurity_func(data_new)\n",
    "    if len(list(np.unique(data_new[:,0])))==1 or len(list(np.unique(data_new[:,1])))==1:\n",
    "        goodness=0\n",
    "        return goodness    \n",
    "    else:\n",
    "        for cat in list(np.unique(data_new[:,0])):\n",
    "            temp_data=data_new[data_new[:,0]==cat]\n",
    "            Sv=len(temp_data[:,0])\n",
    "            cat_impurity=impurity_func(temp_data)\n",
    "            prop=Sv/S\n",
    "            sum_Qv+=prop*cat_impurity\n",
    "      \n",
    "    if gain_ratio : \n",
    "        p = np.unique(data[:,feature],return_counts=True)[1]/len(data)\n",
    "        split_info = -np.sum(p*np.log2(p))\n",
    "        goodness = (Qs-sum_Qv)/ split_info\n",
    "    else:\n",
    "        goodness = Qs-sum_Qv\n",
    "    \n",
    "    return goodness    "
   ]
  },
  {
   "cell_type": "code",
   "execution_count": 11,
   "metadata": {},
   "outputs": [
    {
     "data": {
      "text/plain": [
       "0"
      ]
     },
     "execution_count": 11,
     "metadata": {},
     "output_type": "execute_result"
    }
   ],
   "source": [
    "goodness_of_split(X,14,calc_entropy)"
   ]
  },
  {
   "cell_type": "code",
   "execution_count": 12,
   "metadata": {},
   "outputs": [
    {
     "name": "stdout",
     "output_type": "stream",
     "text": [
      "wind IG: 0.04812703040826949\n",
      "humidity IG: 0.15183550136234159\n",
      "temperture IG: 0.02922256565895487\n",
      "day IG: 0.9402859586706311\n",
      "outlook IG: 0.24674981977443933\n"
     ]
    }
   ],
   "source": [
    "##Sanity test##\n",
    "# check- example in class with target as p/e \n",
    "table = np.array([['D1', 'Sunny', 'Hot', 'High', 'Weak', 'p'],\n",
    "                 ['D2', 'Sunny', 'Hot', 'High', 'Strong', 'p'],\n",
    "                 ['D3', 'Overcast', 'Hot', 'High', 'Weak', 'e'],\n",
    "                 ['D4', 'Rain', 'Mild', 'High', 'Weak', 'e'],\n",
    "                 ['D5', 'Rain', 'Cool', 'Normal', 'Weak', 'e'],\n",
    "                 ['D6', 'Rain', 'Cool', 'Normal', 'Strong', 'p'],\n",
    "                 ['D7', 'Overcast', 'Cool', 'Normal', 'Strong', 'e'],\n",
    "                 ['D8', 'Sunny', 'Mild', 'High', 'Weak', 'p'],\n",
    "                 ['D9', 'Sunny', 'Cool', 'Normal', 'Weak', 'e'],\n",
    "                 ['D10', 'Rain', 'Mild', 'Normal', 'Weak', 'e'],\n",
    "                 ['D11', 'Sunny', 'Mild', 'Normal', 'Strong', 'e'],\n",
    "                 ['D12', 'Overcast', 'Mild', 'High', 'Strong', 'e'],\n",
    "                 ['D13', 'Overcast', 'Hot', 'Normal', 'Weak', 'e'],\n",
    "                 ['D14', 'Rain', 'Mild', 'High', 'Strong', 'p']])\n",
    "\n",
    "print(\"wind IG:\",goodness_of_split(table,4,calc_entropy)) \n",
    "print(\"humidity IG:\",goodness_of_split(table,3,calc_entropy)) \n",
    "print(\"temperture IG:\",goodness_of_split(table,2,calc_entropy)) \n",
    "\n",
    "print(\"day IG:\",goodness_of_split(table,0,calc_entropy)) \n",
    "print(\"outlook IG:\",goodness_of_split(table,1,calc_entropy))"
   ]
  },
  {
   "cell_type": "markdown",
   "metadata": {},
   "source": [
    "## Building a Decision Tree\n",
    "\n",
    "Use a Python class to construct the decision tree. Your class should support the following functionality:\n",
    "\n",
    "1. Initiating a node for a decision tree. You will need to use several class methods and class attributes and you are free to use them as you see fit. We recommend that every node will hold the feature and value used for the split and its children.\n",
    "2. Your code should support both Gini and Entropy as impurity measures. \n",
    "3. The provided data includes categorical data. In this exercise, when splitting a node create the number of children needed according to the attribute unique values.\n",
    "\n",
    "Complete the class `DecisionNode`. The structure of this class is entirely up to you. \n",
    "\n",
    "Complete the function `build_tree`. This function should get the training dataset and the impurity as inputs, initiate a root for the decision tree and construct the tree according to the procedure you learned in class. (30 points)"
   ]
  },
  {
   "cell_type": "code",
   "execution_count": 13,
   "metadata": {},
   "outputs": [],
   "source": [
    "class DecisionNode:\n",
    "    \"\"\"\n",
    "    This class will hold everything you require to construct a decision tree.\n",
    "    The structure of this class is up to you. However, you need to support basic \n",
    "    functionality as described above. It is highly recommended that you \n",
    "    first read and understand the entire exercise before diving into this class.\n",
    "    \"\"\"\n",
    "    \n",
    "    def __init__(self, feature,samples,value,M_class,is_leave):\n",
    "        self.feature = feature # column index of criteria being tested\n",
    "        self.samples = samples # How many instances were relevant\n",
    "        self.value = value # How many belong to each class\n",
    "        self.M_class = M_class #Decision of the majority\n",
    "        self.is_leave = is_leave #1 - leave, 0-not leave\n",
    "        self.children= []\n",
    "        self.values = []\n",
    "            \n",
    "    def add_child(self, node):\n",
    "        self.children.append(node)\n",
    "        \n",
    "    def add_value(self, value):\n",
    "        self.values.append(value)\n",
    "\n",
    "    def set_is_leave(self):\n",
    "        self.is_leave = 1\n",
    "    \n",
    "    def get_is_leave(self):\n",
    "        return self.is_leave\n",
    "    \n",
    "    def get_M_class(self):\n",
    "        return self.M_class\n",
    "    \n",
    "    def get_children(self):\n",
    "        return self.children"
   ]
  },
  {
   "cell_type": "code",
   "execution_count": 14,
   "metadata": {},
   "outputs": [],
   "source": [
    "def build_tree(data, impurity, min_samples_split=1, max_depth=1000,gain_ratio=False):\n",
    "    \"\"\"\n",
    "    Build a tree using the given impurity measure and training dataset. \n",
    "    You are required to fully grow the tree until all leaves are pure. \n",
    "\n",
    "    Input:\n",
    "    - data: the training dataset.\n",
    "    - impurity: the chosen impurity measure. Notice that you can send a function\n",
    "                as an argument in python.\n",
    "    - min_samples_split: the minimum number of samples required to split an internal node\n",
    "    - max_depth: the allowable depth of the tree\n",
    "\n",
    "    Output: the root node of the tree.\n",
    "    \"\"\"\n",
    "    root = None\n",
    "    \n",
    "    def calculate_samples_value_and_M_class(data):\n",
    "        samples=data.shape[0]\n",
    "        p_count = (data[:, -1] == 'p').sum()\n",
    "        e_count = (data[:, -1] == 'e').sum()\n",
    "        value=[p_count,e_count]\n",
    "        if p_count>e_count:\n",
    "            M_class='p'\n",
    "        else:\n",
    "            M_class='e'\n",
    "        return(samples,value,M_class)\n",
    "    \n",
    "    def split_node(node,data,max_depth,impurity,gain_ratio):\n",
    "        samples,value,M_class=calculate_samples_value_and_M_class(data)\n",
    "        node.samples=samples\n",
    "        node.value=value\n",
    "        node.M_class=M_class        \n",
    "        \n",
    "        if data.shape[0] < min_samples_split or max_depth==0:\n",
    "            node.set_is_leave()\n",
    "            return\n",
    "    \n",
    "        feat_num=data.shape[0]\n",
    "        best_feat_idx= None\n",
    "        best_feat_gop= float('-inf')\n",
    "        \n",
    "        for feat_idx in range(data.shape[1]-1):\n",
    "            gop_feat=goodness_of_split(data,feat_idx,impurity,gain_ratio)\n",
    "            if best_feat_gop<gop_feat:\n",
    "                best_feat_idx=feat_idx\n",
    "                best_feat_gop=gop_feat\n",
    "        \n",
    "        if best_feat_gop==0:\n",
    "            node.set_is_leave()\n",
    "            return\n",
    "\n",
    "        if best_feat_idx is None:\n",
    "            node.set_is_leave()\n",
    "            return\n",
    "\n",
    "        node.feature=best_feat_idx\n",
    "        \n",
    "        for cat in list(np.unique(data[:,best_feat_idx])):\n",
    "            temp_data=data[data[:,best_feat_idx]==cat]\n",
    "            child_node=DecisionNode(None,None,None,None,0)\n",
    "            node.add_child(child_node)\n",
    "            node.add_value(cat)\n",
    "            split_node(child_node, temp_data, max_depth-1,impurity,gain_ratio)\n",
    "\n",
    "            \n",
    "    root = DecisionNode(None, None,None,None,0)\n",
    "    split_node(root,data,max_depth,impurity,gain_ratio)\n",
    "    return root"
   ]
  },
  {
   "cell_type": "code",
   "execution_count": 15,
   "metadata": {},
   "outputs": [
    {
     "name": "stdout",
     "output_type": "stream",
     "text": [
      "  Feature 0:\n",
      "  Samples: 14\n",
      "  Value: [5, 9]\n",
      "  Majority Class: e\n",
      "  Is Leaf: 0\n",
      "    Feature None:\n",
      "    Samples: 4\n",
      "    Value: [0, 4]\n",
      "    Majority Class: e\n",
      "    Is Leaf: 1\n",
      "    Feature 3:\n",
      "    Samples: 5\n",
      "    Value: [2, 3]\n",
      "    Majority Class: e\n",
      "    Is Leaf: 0\n",
      "      Feature None:\n",
      "      Samples: 2\n",
      "      Value: [2, 0]\n",
      "      Majority Class: p\n",
      "      Is Leaf: 1\n",
      "      Feature None:\n",
      "      Samples: 3\n",
      "      Value: [0, 3]\n",
      "      Majority Class: e\n",
      "      Is Leaf: 1\n",
      "    Feature 2:\n",
      "    Samples: 5\n",
      "    Value: [3, 2]\n",
      "    Majority Class: p\n",
      "    Is Leaf: 0\n",
      "      Feature None:\n",
      "      Samples: 3\n",
      "      Value: [3, 0]\n",
      "      Majority Class: p\n",
      "      Is Leaf: 1\n",
      "      Feature None:\n",
      "      Samples: 2\n",
      "      Value: [0, 2]\n",
      "      Majority Class: e\n",
      "      Is Leaf: 1\n"
     ]
    }
   ],
   "source": [
    "##Sanity test##\n",
    "\n",
    "def print_tree(node, depth=1):\n",
    "    indent = \"  \" * depth\n",
    "    if node.is_leave: \n",
    "        print(indent + \"Feature \" + str(node.feature) + \":\")\n",
    "        print(indent + \"Samples: \" + str(node.samples))\n",
    "        print(indent + \"Value: \" + str(node.value))\n",
    "        print(indent + \"Majority Class: \" + str(node.M_class))\n",
    "        print(indent + \"Is Leaf: \" + str(node.is_leave))\n",
    "    else:\n",
    "        print(indent + \"Feature \" + str(node.feature) + \":\")\n",
    "        print(indent + \"Samples: \" + str(node.samples))\n",
    "        print(indent + \"Value: \" + str(node.value))\n",
    "        print(indent + \"Majority Class: \" + str(node.M_class))\n",
    "        print(indent + \"Is Leaf: \" + str(node.is_leave))\n",
    "        for child in node.children:\n",
    "            print_tree(child, depth + 1)\n",
    "\n",
    "tree = build_tree(data=table[:,1:], impurity=calc_entropy,max_depth=2, gain_ratio=False) # gini and goodness of split\n",
    "print_tree(tree)"
   ]
  },
  {
   "cell_type": "code",
   "execution_count": 16,
   "metadata": {},
   "outputs": [],
   "source": [
    "# python supports passing a function as an argument to another function.\n",
    "tree_gini = build_tree(data=X_train, impurity=calc_gini) # gini and goodness of split\n",
    "tree_entropy = build_tree(data=X_train, impurity=calc_entropy) # entropy and goodness of split\n",
    "tree_entropy_gain_ratio = build_tree(data=X_train, impurity=calc_entropy, gain_ratio=True) # entropy and gain ratio"
   ]
  },
  {
   "cell_type": "markdown",
   "metadata": {},
   "source": [
    "## Tree evaluation\n",
    "\n",
    "Complete the functions `predict` and `calc_accuracy`. (10 points)"
   ]
  },
  {
   "cell_type": "code",
   "execution_count": 17,
   "metadata": {},
   "outputs": [],
   "source": [
    "def predict(node, instance):\n",
    "    \"\"\"\n",
    "    Predict a given instance using the decision tree\n",
    " \n",
    "    Input:\n",
    "    - root: the root of the decision tree.\n",
    "    - instance: an row vector from the dataset. Note that the last element \n",
    "                of this vector is the label of the instance.\n",
    " \n",
    "    Output: the prediction of the instance.\n",
    "    \"\"\"\n",
    "    pred = None\n",
    "    if node.get_is_leave():\n",
    "        return (node.get_M_class())\n",
    "    \n",
    "    else:\n",
    "        feat=node.feature\n",
    "        rel_cat=instance[feat]\n",
    "        if pd.isnull(rel_cat):\n",
    "            return (node.get_M_class())\n",
    "        else:\n",
    "            child_indice = [i for i, element in enumerate(node.values) if element == rel_cat]\n",
    "            if len(child_indice)==0:\n",
    "                return (node.get_M_class())\n",
    "            next_node=node.children[child_indice[0]]\n",
    "            return(predict(next_node, instance))"
   ]
  },
  {
   "cell_type": "code",
   "execution_count": 18,
   "metadata": {},
   "outputs": [],
   "source": [
    "def calc_accuracy(node, dataset):\n",
    "    \"\"\"\n",
    "    Predict a given dataset using the decision tree\n",
    " \n",
    "    Input:\n",
    "    - node: a node in the decision tree.\n",
    "    - dataset: the dataset on which the accuracy is evaluated\n",
    " \n",
    "    Output: the accuracy of the decision tree on the given dataset (%).\n",
    "    \"\"\"\n",
    "    accuracy = 0\n",
    "    pred=np.array([])\n",
    "    rows_num=dataset.shape[0]\n",
    "    for row_idx in range(rows_num):\n",
    "        instance=dataset[row_idx]\n",
    "        pred = np.append(pred, predict(node, instance))\n",
    "    \n",
    "    accuracy=sum(pred==dataset[:,-1])/rows_num\n",
    "    return accuracy "
   ]
  },
  {
   "cell_type": "markdown",
   "metadata": {},
   "source": [
    "After building the three trees using the training set, you should calculate the accuracy on the test set. For each tree print the training and test accuracy. Select the tree that gave you the best test accuracy. For the rest of the exercise, use that tree (when you asked to build another tree use the same impurity function and same gain_ratio flag). "
   ]
  },
  {
   "cell_type": "code",
   "execution_count": 19,
   "metadata": {},
   "outputs": [
    {
     "data": {
      "text/plain": [
       "(0.9940915805022157, 0.9924503528639422, 0.9963892991957984)"
      ]
     },
     "execution_count": 19,
     "metadata": {},
     "output_type": "execute_result"
    }
   ],
   "source": [
    "calc_accuracy(tree_entropy,X_train), calc_accuracy(tree_gini,X_train),calc_accuracy(tree_entropy_gain_ratio,X_train)"
   ]
  },
  {
   "cell_type": "code",
   "execution_count": 20,
   "metadata": {},
   "outputs": [
    {
     "data": {
      "text/plain": [
       "(0.7725258493353028, 0.7749876907927129, 0.7853274249138356)"
      ]
     },
     "execution_count": 20,
     "metadata": {},
     "output_type": "execute_result"
    }
   ],
   "source": [
    "calc_accuracy(tree_entropy,X_test), calc_accuracy(tree_gini,X_test),calc_accuracy(tree_entropy_gain_ratio,X_test)"
   ]
  },
  {
   "cell_type": "markdown",
   "metadata": {},
   "source": [
    "**The best model is tree_entropy_gain_ratio (accuracy 0.7853274249138356)**"
   ]
  },
  {
   "cell_type": "markdown",
   "metadata": {},
   "source": [
    "## Depth pruning\n",
    "\n",
    "(15 points)\n",
    "\n",
    "Consider the following max_depth values: [1, 2, 3, 4, 5, 6, 7, 8]. For each value, construct a tree and prune it according to the max_depth value = don't let the tree to grow beyond this depth. Next, calculate the training and testing accuracy.<br>\n",
    "On a single plot, draw the training and testing accuracy as a function of the max_depth. Mark the best result on the graph with red circle."
   ]
  },
  {
   "cell_type": "code",
   "execution_count": 21,
   "metadata": {},
   "outputs": [
    {
     "data": {
      "image/png": "[encoded data removed]",
      "text/plain": [
       "<Figure size 1000x800 with 1 Axes>"
      ]
     },
     "metadata": {},
     "output_type": "display_data"
    }
   ],
   "source": [
    "accuracy_dict = {}\n",
    "best_accuracy = 0\n",
    "best_depth = 0\n",
    "\n",
    "for max_depth in [1, 2, 3, 4, 5, 6, 7, 8] : \n",
    "    tree=build_tree(data=X_train, impurity=calc_entropy, gain_ratio=True,max_depth=max_depth)\n",
    "    accuracy_test=calc_accuracy(tree,X_test)\n",
    "    accuracy_dict[max_depth] = (accuracy_test,calc_accuracy(tree,X_train))\n",
    "\n",
    "    if accuracy_test > best_accuracy:\n",
    "        best_accuracy = accuracy_test\n",
    "        best_depth = max_depth\n",
    "\n",
    "# Plot\n",
    "depths = list(accuracy_dict.keys())\n",
    "test_accuracies = [accuracy_dict[depth][0] for depth in depths]\n",
    "train_accuracies = [accuracy_dict[depth][1] for depth in depths]\n",
    "\n",
    "plt.plot(depths, test_accuracies, label='Testing Accuracy')\n",
    "plt.plot(depths, train_accuracies, label='Training Accuracy')\n",
    "\n",
    "plt.scatter(depths, test_accuracies, color='black')\n",
    "plt.scatter(depths, train_accuracies, color='black')\n",
    "\n",
    "##best point\n",
    "plt.scatter(best_depth, best_accuracy, color='red', marker='o', label='Best Test Accuracy')\n",
    "plt.annotate(f'{best_depth}', (best_depth, best_accuracy), textcoords=\"offset points\", xytext=(-10, -10), ha='center', color='red')\n",
    "\n",
    "plt.xlabel('max_depth')\n",
    "plt.ylabel('Accuracy')\n",
    "plt.title('Training and Testing Accuracy VS max_depth')\n",
    "plt.legend()\n",
    "plt.xlim(1, 8)\n",
    "plt.ylim(0, 1)\n",
    "plt.show()\n"
   ]
  },
  {
   "cell_type": "markdown",
   "metadata": {},
   "source": [
    "## Min Samples Split\n",
    "\n",
    "(15 points)\n",
    "\n",
    "Consider the following min_samples_split values: [1, 5, 10, 20, 50]. For each value, construct a tree and prune it according to the min_samples_split value = don't split a node if the number of sample in it is less or equal to the min_samples_split value. Next, calculate the training and testing accuracy.<br>\n",
    "On a single plot, draw the training and testing accuracy as a function of the min_samples_split. Mark the best result on the graph with red circle. (make sure that the x-axis ticks represent the values of min_samples_split)"
   ]
  },
  {
   "cell_type": "code",
   "execution_count": 22,
   "metadata": {},
   "outputs": [
    {
     "data": {
      "image/png": "[encoded data removed]",
      "text/plain": [
       "<Figure size 1000x800 with 1 Axes>"
      ]
     },
     "metadata": {},
     "output_type": "display_data"
    }
   ],
   "source": [
    "accuracy_dict = {}\n",
    "best_accuracy = 0\n",
    "best_min_samples_split = 0\n",
    "\n",
    "for min_samples_split in [1, 5, 10, 20, 50] : \n",
    "    tree=build_tree(data=X_train, impurity=calc_entropy, gain_ratio=True,min_samples_split=min_samples_split)\n",
    "    accuracy_test=calc_accuracy(tree,X_test)\n",
    "    accuracy_dict[min_samples_split] = (accuracy_test,calc_accuracy(tree,X_train))\n",
    "\n",
    "    if accuracy_test > best_accuracy:\n",
    "        best_accuracy = accuracy_test\n",
    "        best_min_samples_split = min_samples_split\n",
    "        \n",
    "# Plot\n",
    "min_samples = list(accuracy_dict.keys())\n",
    "test_accuracies = [accuracy_dict[min_sample][0] for min_sample in min_samples]\n",
    "train_accuracies = [accuracy_dict[min_sample][1] for min_sample in min_samples]\n",
    "\n",
    "plt.plot(min_samples, test_accuracies, label='Testing Accuracy')\n",
    "plt.plot(min_samples, train_accuracies, label='Training Accuracy')\n",
    "plt.scatter(min_samples, test_accuracies, color='black')\n",
    "plt.scatter(min_samples, train_accuracies, color='black')\n",
    "\n",
    "# Best point\n",
    "plt.scatter(best_min_samples_split, best_accuracy, color='red', marker='o', label='Best Test Accuracy')\n",
    "plt.annotate(f'{best_min_samples_split}', (best_min_samples_split, best_accuracy), textcoords=\"offset points\", xytext=(-10, -10), ha='center', color='red')\n",
    "\n",
    "plt.xlabel('min_samples_split')\n",
    "plt.ylabel('Accuracy')\n",
    "plt.title('Training and Testing Accuracy VS min_samples_split')\n",
    "plt.legend()\n",
    "plt.xlim(0.5, 50.5) \n",
    "plt.ylim(0, 1)\n",
    "plt.show()"
   ]
  },
  {
   "cell_type": "markdown",
   "metadata": {},
   "source": [
    "Build the best 2 trees:\n",
    "1. tree_max_depth - the best tree according to max_depth pruning\n",
    "1. tree_min_samples_split - the best tree according to min_samples_split pruning"
   ]
  },
  {
   "cell_type": "code",
   "execution_count": 23,
   "metadata": {},
   "outputs": [],
   "source": [
    "tree_max_depth=build_tree(data=X_train, impurity=calc_entropy, gain_ratio=True,max_depth=4)\n",
    "tree_min_samples_split=build_tree(data=X_train, impurity=calc_entropy, gain_ratio=True,min_samples_split=50)"
   ]
  },
  {
   "cell_type": "markdown",
   "metadata": {},
   "source": [
    "## Number of Nodes\n",
    "\n",
    "(5 points)\n",
    "\n",
    "Complete the function counts_nodes and print the number of nodes in each tree and print the number of nodes of the two trees above"
   ]
  },
  {
   "cell_type": "code",
   "execution_count": 24,
   "metadata": {},
   "outputs": [],
   "source": [
    "def count_nodes(node):\n",
    "    \"\"\"\n",
    "    Count the number of node in a given tree\n",
    " \n",
    "    Input:\n",
    "    - node: a node in the decision tree.\n",
    " \n",
    "    Output: the number of node in the tree.\n",
    "    \"\"\"\n",
    "    if node.is_leave:\n",
    "        return 1\n",
    "    else:\n",
    "        count = 1  # Include the current node in the count\n",
    "        for child in node.children:\n",
    "            count += count_nodes(child)\n",
    "        return count"
   ]
  },
  {
   "cell_type": "code",
   "execution_count": 25,
   "metadata": {},
   "outputs": [
    {
     "name": "stdout",
     "output_type": "stream",
     "text": [
      "The number of nodes of tree_max_depth: 205\n",
      "The number of nodes of tree_min_samples_split: 349\n"
     ]
    }
   ],
   "source": [
    "max_depth_nodes=count_nodes(tree_max_depth)\n",
    "min_samples_nodes=count_nodes(tree_min_samples_split)\n",
    "\n",
    "print(\"The number of nodes of tree_max_depth:\",max_depth_nodes)\n",
    "print(\"The number of nodes of tree_min_samples_split:\",min_samples_nodes)"
   ]
  },
  {
   "cell_type": "markdown",
   "metadata": {},
   "source": [
    "## Print the tree\n",
    "\n",
    "Complete the function `print_tree`. Your tree should be visualized clearly. You can use the following example as a reference:\n",
    "```\n",
    "[ROOT, feature=X0],\n",
    "  [X0=a, feature=X2]\n",
    "    [X2=c, leaf]: [{1.0: 10}]\n",
    "    [X2=d, leaf]: [{0.0: 10}]\n",
    "  [X0=y, feature=X5], \n",
    "    [X5=a, leaf]: [{1.0: 5}]\n",
    "    [X5=s, leaf]: [{0.0: 10}]\n",
    "  [X0=e, leaf]: [{0.0: 25, 1.0: 50}]\n",
    "```\n",
    "In each brackets:\n",
    "* The first argument is the parent feature with the value that led to current node\n",
    "* The second argument is the selected feature of the current node\n",
    "* If the current node is a leaf, you need to print also the labels and their counts\n",
    "\n",
    "(5 points)"
   ]
  },
  {
   "cell_type": "code",
   "execution_count": 26,
   "metadata": {},
   "outputs": [],
   "source": [
    "# you can change the function signeture\n",
    "def print_tree(node, depth=0, parent_feature='ROOT', feature_val='ROOT'):\n",
    "    '''\n",
    "    prints the tree according to the example above\n",
    "\n",
    "    Input:\n",
    "    - node: a node in the decision tree\n",
    "\n",
    "    This function has no return value\n",
    "    '''\n",
    "    indent = '  ' * depth\n",
    "    feature=node.feature\n",
    "    if parent_feature=='ROOT':\n",
    "        print(f\"[{parent_feature},feature=X{feature}],\")\n",
    "        for index, child in enumerate(node.children):\n",
    "            feature_val=node.values[index]\n",
    "            parent_feature=node.feature\n",
    "            print_tree(child,depth=depth+1,parent_feature=parent_feature,feature_val=feature_val)\n",
    "\n",
    "    elif node.get_is_leave():\n",
    "        p_count=node.value[0]\n",
    "        e_count=node.value[1]\n",
    "        print(f\"{indent}[X{parent_feature}={feature_val},leaf]: [{{'p': {p_count}, 'e': {e_count}}}]\")\n",
    "    \n",
    "    else:\n",
    "        feature=node.feature\n",
    "        print(f\"{indent}[X{parent_feature}={feature_val}, feature=X{feature}]\")\n",
    "        for index, child in enumerate(node.children):\n",
    "            feature_val=node.values[index]\n",
    "            parent_feature=node.feature\n",
    "            print_tree(child,depth=depth+1,parent_feature=parent_feature,feature_val=feature_val)"
   ]
  },
  {
   "cell_type": "markdown",
   "metadata": {},
   "source": [
    "print the tree with the best test accuracy and with less than 50 nodes (from the two pruning methods)"
   ]
  },
  {
   "cell_type": "code",
   "execution_count": 27,
   "metadata": {},
   "outputs": [
    {
     "data": {
      "text/plain": [
       "(0.8956179222058099, 0.8951255539143279)"
      ]
     },
     "execution_count": 27,
     "metadata": {},
     "output_type": "execute_result"
    }
   ],
   "source": [
    "calc_accuracy(tree_max_depth,X_test),calc_accuracy(tree_min_samples_split,X_test)"
   ]
  },
  {
   "cell_type": "code",
   "execution_count": 28,
   "metadata": {},
   "outputs": [
    {
     "data": {
      "text/plain": [
       "True"
      ]
     },
     "execution_count": 28,
     "metadata": {},
     "output_type": "execute_result"
    }
   ],
   "source": [
    "calc_accuracy(tree_max_depth,X_test)>calc_accuracy(tree_min_samples_split,X_test)"
   ]
  },
  {
   "cell_type": "markdown",
   "metadata": {},
   "source": [
    "**tree_max_depth is the tree with the best test accuracy**"
   ]
  },
  {
   "cell_type": "code",
   "execution_count": 29,
   "metadata": {},
   "outputs": [
    {
     "name": "stdout",
     "output_type": "stream",
     "text": [
      "[ROOT,feature=X4],\n",
      "  [X4=a, feature=X2]\n",
      "    [X2=n, feature=X8]\n",
      "      [X8=n, feature=X19]\n",
      "        [X19=s,leaf]: [{'p': 3, 'e': 4}]\n",
      "        [X19=y,leaf]: [{'p': 0, 'e': 8}]\n",
      "      [X8=p, feature=X0]\n",
      "        [X0=f,leaf]: [{'p': 1, 'e': 2}]\n",
      "        [X0=x,leaf]: [{'p': 0, 'e': 7}]\n",
      "      [X8=w, feature=X18]\n",
      "        [X18=k,leaf]: [{'p': 1, 'e': 5}]\n",
      "        [X18=n,leaf]: [{'p': 0, 'e': 7}]\n",
      "    [X2=w, feature=X6]\n",
      "      [X6=c, feature=X8]\n",
      "        [X8=g,leaf]: [{'p': 1, 'e': 22}]\n",
      "        [X8=k,leaf]: [{'p': 4, 'e': 22}]\n",
      "        [X8=n,leaf]: [{'p': 1, 'e': 26}]\n",
      "        [X8=w,leaf]: [{'p': 1, 'e': 16}]\n",
      "      [X6=w,leaf]: [{'p': 0, 'e': 21}]\n",
      "    [X2=y, feature=X6]\n",
      "      [X6=c, feature=X8]\n",
      "        [X8=g,leaf]: [{'p': 2, 'e': 24}]\n",
      "        [X8=k,leaf]: [{'p': 1, 'e': 22}]\n",
      "        [X8=n,leaf]: [{'p': 7, 'e': 28}]\n",
      "        [X8=p,leaf]: [{'p': 0, 'e': 14}]\n",
      "        [X8=w,leaf]: [{'p': 5, 'e': 33}]\n",
      "      [X6=w, feature=X0]\n",
      "        [X0=f,leaf]: [{'p': 1, 'e': 7}]\n",
      "        [X0=x,leaf]: [{'p': 3, 'e': 5}]\n",
      "  [X4=c, feature=X6]\n",
      "    [X6=c, feature=X19]\n",
      "      [X19=s, feature=X1]\n",
      "        [X1=f,leaf]: [{'p': 13, 'e': 5}]\n",
      "        [X1=s,leaf]: [{'p': 14, 'e': 1}]\n",
      "      [X19=v, feature=X1]\n",
      "        [X1=f,leaf]: [{'p': 16, 'e': 1}]\n",
      "        [X1=s,leaf]: [{'p': 20, 'e': 0}]\n",
      "    [X6=w, feature=X2]\n",
      "      [X2=g,leaf]: [{'p': 25, 'e': 0}]\n",
      "      [X2=p, feature=X19]\n",
      "        [X19=s,leaf]: [{'p': 12, 'e': 0}]\n",
      "        [X19=v,leaf]: [{'p': 12, 'e': 2}]\n",
      "      [X2=w, feature=X18]\n",
      "        [X18=k,leaf]: [{'p': 14, 'e': 0}]\n",
      "        [X18=n,leaf]: [{'p': 11, 'e': 1}]\n",
      "  [X4=f, feature=X10]\n",
      "    [X10=f, feature=X2]\n",
      "      [X2=b, feature=X19]\n",
      "        [X19=s,leaf]: [{'p': 13, 'e': 6}]\n",
      "        [X19=v,leaf]: [{'p': 17, 'e': 2}]\n",
      "      [X2=g, feature=X0]\n",
      "        [X0=f,leaf]: [{'p': 14, 'e': 4}]\n",
      "        [X0=x,leaf]: [{'p': 12, 'e': 1}]\n",
      "      [X2=w, feature=X8]\n",
      "        [X8=h,leaf]: [{'p': 14, 'e': 0}]\n",
      "        [X8=p,leaf]: [{'p': 8, 'e': 1}]\n",
      "        [X8=w,leaf]: [{'p': 13, 'e': 0}]\n",
      "    [X10=k, feature=X11]\n",
      "      [X11=k, feature=X7]\n",
      "        [X7=b,leaf]: [{'p': 854, 'e': 112}]\n",
      "        [X7=n,leaf]: [{'p': 97, 'e': 6}]\n",
      "      [X11=s, feature=X1]\n",
      "        [X1=s,leaf]: [{'p': 43, 'e': 12}]\n",
      "        [X1=y,leaf]: [{'p': 43, 'e': 4}]\n",
      "    [X10=s, feature=X19]\n",
      "      [X19=s, feature=X0]\n",
      "        [X0=f,leaf]: [{'p': 26, 'e': 2}]\n",
      "        [X0=x,leaf]: [{'p': 29, 'e': 0}]\n",
      "      [X19=v, feature=X11]\n",
      "        [X11=f,leaf]: [{'p': 24, 'e': 4}]\n",
      "        [X11=k,leaf]: [{'p': 107, 'e': 6}]\n",
      "        [X11=s,leaf]: [{'p': 124, 'e': 10}]\n",
      "  [X4=l, feature=X1]\n",
      "    [X1=f, feature=X0]\n",
      "      [X0=f, feature=X2]\n",
      "        [X2=w,leaf]: [{'p': 1, 'e': 4}]\n",
      "        [X2=y,leaf]: [{'p': 0, 'e': 5}]\n",
      "      [X0=x,leaf]: [{'p': 0, 'e': 10}]\n",
      "    [X1=s, feature=X2]\n",
      "      [X2=w, feature=X18]\n",
      "        [X18=k,leaf]: [{'p': 5, 'e': 18}]\n",
      "        [X18=n,leaf]: [{'p': 6, 'e': 27}]\n",
      "        [X18=u,leaf]: [{'p': 0, 'e': 5}]\n",
      "      [X2=y, feature=X8]\n",
      "        [X8=g,leaf]: [{'p': 2, 'e': 11}]\n",
      "        [X8=k,leaf]: [{'p': 1, 'e': 7}]\n",
      "        [X8=n,leaf]: [{'p': 1, 'e': 12}]\n",
      "        [X8=p,leaf]: [{'p': 1, 'e': 3}]\n",
      "        [X8=w,leaf]: [{'p': 0, 'e': 11}]\n",
      "    [X1=y, feature=X20]\n",
      "      [X20=g, feature=X2]\n",
      "        [X2=n,leaf]: [{'p': 2, 'e': 19}]\n",
      "        [X2=w,leaf]: [{'p': 3, 'e': 19}]\n",
      "        [X2=y,leaf]: [{'p': 2, 'e': 42}]\n",
      "      [X20=m, feature=X19]\n",
      "        [X19=n,leaf]: [{'p': 0, 'e': 25}]\n",
      "        [X19=s,leaf]: [{'p': 1, 'e': 23}]\n",
      "      [X20=p, feature=X8]\n",
      "        [X8=n,leaf]: [{'p': 2, 'e': 5}]\n",
      "        [X8=p,leaf]: [{'p': 0, 'e': 13}]\n",
      "        [X8=w,leaf]: [{'p': 0, 'e': 13}]\n",
      "  [X4=m, feature=X0]\n",
      "    [X0=f, feature=X5]\n",
      "      [X5=a,leaf]: [{'p': 5, 'e': 0}]\n",
      "      [X5=f, feature=X2]\n",
      "        [X2=c,leaf]: [{'p': 0, 'e': 1}]\n",
      "        [X2=e,leaf]: [{'p': 2, 'e': 0}]\n",
      "        [X2=n,leaf]: [{'p': 1, 'e': 0}]\n",
      "    [X0=k, feature=X8]\n",
      "      [X8=w, feature=X2]\n",
      "        [X2=c,leaf]: [{'p': 2, 'e': 0}]\n",
      "        [X2=e,leaf]: [{'p': 1, 'e': 1}]\n",
      "        [X2=n,leaf]: [{'p': 1, 'e': 0}]\n",
      "      [X8=y,leaf]: [{'p': 6, 'e': 0}]\n",
      "    [X0=x,leaf]: [{'p': 7, 'e': 0}]\n",
      "  [X4=n, feature=X7]\n",
      "    [X7=b, feature=X18]\n",
      "      [X18=b, feature=X0]\n",
      "        [X0=b,leaf]: [{'p': 0, 'e': 10}]\n",
      "        [X0=f,leaf]: [{'p': 0, 'e': 8}]\n",
      "        [X0=k,leaf]: [{'p': 1, 'e': 6}]\n",
      "        [X0=x,leaf]: [{'p': 1, 'e': 10}]\n",
      "      [X18=k, feature=X11]\n",
      "        [X11=f,leaf]: [{'p': 19, 'e': 126}]\n",
      "        [X11=s,leaf]: [{'p': 74, 'e': 717}]\n",
      "      [X18=n, feature=X15]\n",
      "        [X15=n,leaf]: [{'p': 4, 'e': 14}]\n",
      "        [X15=o,leaf]: [{'p': 1, 'e': 18}]\n",
      "        [X15=w,leaf]: [{'p': 100, 'e': 850}]\n",
      "      [X18=o, feature=X19]\n",
      "        [X19=c,leaf]: [{'p': 4, 'e': 12}]\n",
      "        [X19=v,leaf]: [{'p': 0, 'e': 16}]\n",
      "      [X18=r, feature=X8]\n",
      "        [X8=g,leaf]: [{'p': 16, 'e': 2}]\n",
      "        [X8=r,leaf]: [{'p': 15, 'e': 4}]\n",
      "        [X8=w,leaf]: [{'p': 15, 'e': 0}]\n",
      "      [X18=w, feature=X13]\n",
      "        [X13=e,leaf]: [{'p': 9, 'e': 62}]\n",
      "        [X13=n,leaf]: [{'p': 2, 'e': 12}]\n",
      "        [X13=w,leaf]: [{'p': 22, 'e': 295}]\n",
      "      [X18=y, feature=X0]\n",
      "        [X0=b,leaf]: [{'p': 1, 'e': 6}]\n",
      "        [X0=f,leaf]: [{'p': 0, 'e': 12}]\n",
      "        [X0=k,leaf]: [{'p': 2, 'e': 6}]\n",
      "        [X0=x,leaf]: [{'p': 0, 'e': 11}]\n",
      "    [X7=n, feature=X3]\n",
      "      [X3=f, feature=X10]\n",
      "        [X10=f,leaf]: [{'p': 3, 'e': 17}]\n",
      "        [X10=k,leaf]: [{'p': 25, 'e': 0}]\n",
      "        [X10=s,leaf]: [{'p': 15, 'e': 118}]\n",
      "        [X10=y,leaf]: [{'p': 7, 'e': 0}]\n",
      "      [X3=t,leaf]: [{'p': 8, 'e': 0}]\n",
      "  [X4=p, feature=X0]\n",
      "    [X0=f, feature=X18]\n",
      "      [X18=k, feature=X8]\n",
      "        [X8=k,leaf]: [{'p': 10, 'e': 2}]\n",
      "        [X8=n,leaf]: [{'p': 10, 'e': 2}]\n",
      "        [X8=p,leaf]: [{'p': 11, 'e': 1}]\n",
      "        [X8=w,leaf]: [{'p': 12, 'e': 1}]\n",
      "      [X18=n, feature=X8]\n",
      "        [X8=k,leaf]: [{'p': 10, 'e': 0}]\n",
      "        [X8=n,leaf]: [{'p': 11, 'e': 1}]\n",
      "        [X8=p,leaf]: [{'p': 13, 'e': 0}]\n",
      "        [X8=w,leaf]: [{'p': 9, 'e': 0}]\n",
      "    [X0=x, feature=X1]\n",
      "      [X1=s, feature=X2]\n",
      "        [X2=n,leaf]: [{'p': 23, 'e': 0}]\n",
      "        [X2=w,leaf]: [{'p': 21, 'e': 1}]\n",
      "      [X1=y,leaf]: [{'p': 45, 'e': 0}]\n",
      "  [X4=s, feature=X13]\n",
      "    [X13=p, feature=X11]\n",
      "      [X11=k, feature=X20]\n",
      "        [X20=d,leaf]: [{'p': 31, 'e': 3}]\n",
      "        [X20=l,leaf]: [{'p': 30, 'e': 4}]\n",
      "        [X20=p,leaf]: [{'p': 35, 'e': 1}]\n",
      "      [X11=s, feature=X0]\n",
      "        [X0=f,leaf]: [{'p': 30, 'e': 3}]\n",
      "        [X0=k,leaf]: [{'p': 30, 'e': 0}]\n",
      "        [X0=x,leaf]: [{'p': 34, 'e': 1}]\n",
      "    [X13=w, feature=X12]\n",
      "      [X12=p, feature=X11]\n",
      "        [X11=k,leaf]: [{'p': 42, 'e': 7}]\n",
      "        [X11=s,leaf]: [{'p': 46, 'e': 11}]\n",
      "      [X12=w, feature=X0]\n",
      "        [X0=f,leaf]: [{'p': 38, 'e': 0}]\n",
      "        [X0=k,leaf]: [{'p': 30, 'e': 3}]\n",
      "        [X0=x,leaf]: [{'p': 34, 'e': 5}]\n",
      "  [X4=y, feature=X1]\n",
      "    [X1=s, feature=X2]\n",
      "      [X2=e, feature=X20]\n",
      "        [X20=d,leaf]: [{'p': 31, 'e': 2}]\n",
      "        [X20=l,leaf]: [{'p': 31, 'e': 5}]\n",
      "        [X20=p,leaf]: [{'p': 31, 'e': 5}]\n",
      "      [X2=n, feature=X12]\n",
      "        [X12=p,leaf]: [{'p': 49, 'e': 4}]\n",
      "        [X12=w,leaf]: [{'p': 52, 'e': 2}]\n",
      "    [X1=y, feature=X12]\n",
      "      [X12=p, feature=X0]\n",
      "        [X0=f,leaf]: [{'p': 30, 'e': 7}]\n",
      "        [X0=k,leaf]: [{'p': 27, 'e': 5}]\n",
      "        [X0=x,leaf]: [{'p': 34, 'e': 0}]\n",
      "      [X12=w, feature=X0]\n",
      "        [X0=f,leaf]: [{'p': 36, 'e': 5}]\n",
      "        [X0=k,leaf]: [{'p': 32, 'e': 5}]\n",
      "        [X0=x,leaf]: [{'p': 29, 'e': 9}]\n"
     ]
    }
   ],
   "source": [
    "print_tree(tree_max_depth)"
   ]
  }
 ],
 "metadata": {
  "celltoolbar": "Create Assignment",
  "kernelspec": {
   "display_name": "Python 3 (ipykernel)",
   "language": "python",
   "name": "python3"
  },
  "language_info": {
   "codemirror_mode": {
    "name": "ipython",
    "version": 3
   },
   "file_extension": ".py",
   "mimetype": "text/x-python",
   "name": "python",
   "nbconvert_exporter": "python",
   "pygments_lexer": "ipython3",
   "version": "3.9.13"
  }
 },
 "nbformat": 4,
 "nbformat_minor": 4
}
